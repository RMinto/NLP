{
 "cells": [
  {
   "cell_type": "code",
   "execution_count": null,
   "metadata": {},
   "outputs": [],
   "source": []
  },
  {
   "cell_type": "code",
   "execution_count": 2,
   "metadata": {},
   "outputs": [],
   "source": [
    "import pandas as pd\n",
    "\n",
    "def format_dataframe_for_fine_tuning(df):\n",
    "    formatted_data = []\n",
    "    conversation = []\n",
    "\n",
    "    for index, row in df.iterrows():\n",
    "        if row['role'] == 'customer':\n",
    "            conversation.append(f'Customer: {row[\"transcript\"]}')\n",
    "        else:\n",
    "            conversation.append(f'Agent: {row[\"transcript\"]}')\n",
    "\n",
    "      \n",
    "            # Replace <summary of the interaction so far> and <for example order details in natural language> with appropriate text\n",
    "            summary = f'\\n'.join(conversation[:-1])\n",
    "            specific_information = \"<for example order details in natural language>\"\n",
    "\n",
    "            prompt = f'Summary: {summary}' + '\\nAgent:'\n",
    "            completion = f' {conversation[-1].split(\": \")[1]}\\n' \n",
    "\n",
    "            formatted_data.append({\"prompt\": prompt, \"completion\": completion})\n",
    "\n",
    "    return formatted_data\n",
    "\n",
    "\n",
    "# Example usage:\n",
    "# Create a sample dataframe\n",
    "data = [\n",
    "    {'transcript': 'Hello, I need help with my order.', 'role': 'customer'},\n",
    "    {'transcript': 'Sure, what is the issue?', 'role': 'advisor'},\n",
    "    {'transcript': 'I have not received my package yet.', 'role': 'customer'},\n",
    "    {'transcript': 'I apologize for the delay. Let me check the status of your order.', 'role': 'advisor'},\n",
    "    {'transcript': 'It looks like the status is xyz, is this correct?', 'role': 'advisor'},\n",
    "    {'transcript': 'yes thats correct', 'role': 'customer'},\n",
    "    {'transcript': 'can you give me the email address with your account?', 'role': 'advisor'},\n",
    "    {'transcript': 'sure its customeremail@email.com', 'role': 'customer'},\n",
    "    {'transcript': 'what was the tracking number on the package?', 'role': 'advisor'},\n",
    "    {'transcript': 'the tracking number is 123456', 'role': 'customer'},\n",
    "    {'transcript': 'Okay I have alerted our warehouse team and someone will reach out to you through your email shortly', 'role': 'advisor'},\n",
    "    {'transcript': 'okay thank you', 'role': 'customer'}\n",
    "]\n"
   ]
  },
  {
   "cell_type": "code",
   "execution_count": 3,
   "metadata": {},
   "outputs": [
    {
     "data": {
      "text/html": [
       "<div>\n",
       "<style scoped>\n",
       "    .dataframe tbody tr th:only-of-type {\n",
       "        vertical-align: middle;\n",
       "    }\n",
       "\n",
       "    .dataframe tbody tr th {\n",
       "        vertical-align: top;\n",
       "    }\n",
       "\n",
       "    .dataframe thead th {\n",
       "        text-align: right;\n",
       "    }\n",
       "</style>\n",
       "<table border=\"1\" class=\"dataframe\">\n",
       "  <thead>\n",
       "    <tr style=\"text-align: right;\">\n",
       "      <th></th>\n",
       "      <th>transcript</th>\n",
       "      <th>role</th>\n",
       "    </tr>\n",
       "  </thead>\n",
       "  <tbody>\n",
       "    <tr>\n",
       "      <th>0</th>\n",
       "      <td>Hello, I need help with my order.</td>\n",
       "      <td>customer</td>\n",
       "    </tr>\n",
       "    <tr>\n",
       "      <th>1</th>\n",
       "      <td>Sure, what is the issue?</td>\n",
       "      <td>advisor</td>\n",
       "    </tr>\n",
       "    <tr>\n",
       "      <th>2</th>\n",
       "      <td>I have not received my package yet.</td>\n",
       "      <td>customer</td>\n",
       "    </tr>\n",
       "    <tr>\n",
       "      <th>3</th>\n",
       "      <td>I apologize for the delay. Let me check the st...</td>\n",
       "      <td>advisor</td>\n",
       "    </tr>\n",
       "    <tr>\n",
       "      <th>4</th>\n",
       "      <td>It looks like the status is xyz, is this correct?</td>\n",
       "      <td>advisor</td>\n",
       "    </tr>\n",
       "  </tbody>\n",
       "</table>\n",
       "</div>"
      ],
      "text/plain": [
       "                                          transcript      role\n",
       "0                  Hello, I need help with my order.  customer\n",
       "1                           Sure, what is the issue?   advisor\n",
       "2                I have not received my package yet.  customer\n",
       "3  I apologize for the delay. Let me check the st...   advisor\n",
       "4  It looks like the status is xyz, is this correct?   advisor"
      ]
     },
     "execution_count": 3,
     "metadata": {},
     "output_type": "execute_result"
    }
   ],
   "source": [
    "df = pd.DataFrame(data)\n",
    "df.head()"
   ]
  },
  {
   "cell_type": "code",
   "execution_count": 4,
   "metadata": {},
   "outputs": [
    {
     "name": "stdout",
     "output_type": "stream",
     "text": [
      "[{'prompt': 'Summary: Customer: Hello, I need help with my order.\\nAgent:', 'completion': ' Sure, what is the issue?\\n'}, {'prompt': 'Summary: Customer: Hello, I need help with my order.\\nAgent: Sure, what is the issue?\\nCustomer: I have not received my package yet.\\nAgent:', 'completion': ' I apologize for the delay. Let me check the status of your order.\\n'}, {'prompt': 'Summary: Customer: Hello, I need help with my order.\\nAgent: Sure, what is the issue?\\nCustomer: I have not received my package yet.\\nAgent: I apologize for the delay. Let me check the status of your order.\\nAgent:', 'completion': ' It looks like the status is xyz, is this correct?\\n'}, {'prompt': 'Summary: Customer: Hello, I need help with my order.\\nAgent: Sure, what is the issue?\\nCustomer: I have not received my package yet.\\nAgent: I apologize for the delay. Let me check the status of your order.\\nAgent: It looks like the status is xyz, is this correct?\\nCustomer: yes thats correct\\nAgent:', 'completion': ' can you give me the email address with your account?\\n'}, {'prompt': 'Summary: Customer: Hello, I need help with my order.\\nAgent: Sure, what is the issue?\\nCustomer: I have not received my package yet.\\nAgent: I apologize for the delay. Let me check the status of your order.\\nAgent: It looks like the status is xyz, is this correct?\\nCustomer: yes thats correct\\nAgent: can you give me the email address with your account?\\nCustomer: sure its customeremail@email.com\\nAgent:', 'completion': ' what was the tracking number on the package?\\n'}, {'prompt': 'Summary: Customer: Hello, I need help with my order.\\nAgent: Sure, what is the issue?\\nCustomer: I have not received my package yet.\\nAgent: I apologize for the delay. Let me check the status of your order.\\nAgent: It looks like the status is xyz, is this correct?\\nCustomer: yes thats correct\\nAgent: can you give me the email address with your account?\\nCustomer: sure its customeremail@email.com\\nAgent: what was the tracking number on the package?\\nCustomer: the tracking number is 123456\\nAgent:', 'completion': ' Okay I have alerted our warehouse team and someone will reach out to you through your email shortly\\n'}]\n"
     ]
    }
   ],
   "source": [
    "formatted_data = format_dataframe_for_fine_tuning(df)\n",
    "print(formatted_data)"
   ]
  },
  {
   "cell_type": "code",
   "execution_count": null,
   "metadata": {},
   "outputs": [],
   "source": []
  },
  {
   "cell_type": "code",
   "execution_count": null,
   "metadata": {},
   "outputs": [],
   "source": []
  },
  {
   "cell_type": "code",
   "execution_count": null,
   "metadata": {},
   "outputs": [],
   "source": []
  },
  {
   "cell_type": "code",
   "execution_count": null,
   "metadata": {},
   "outputs": [],
   "source": []
  }
 ],
 "metadata": {
  "kernelspec": {
   "display_name": "Python 3.9.12 ('.venv': venv)",
   "language": "python",
   "name": "python3"
  },
  "language_info": {
   "codemirror_mode": {
    "name": "ipython",
    "version": 3
   },
   "file_extension": ".py",
   "mimetype": "text/x-python",
   "name": "python",
   "nbconvert_exporter": "python",
   "pygments_lexer": "ipython3",
   "version": "3.9.12"
  },
  "orig_nbformat": 4,
  "vscode": {
   "interpreter": {
    "hash": "4bc1c50578c29853d4f3205a7af909ffdce3b5c2af93fa104b4c234874195008"
   }
  }
 },
 "nbformat": 4,
 "nbformat_minor": 2
}
